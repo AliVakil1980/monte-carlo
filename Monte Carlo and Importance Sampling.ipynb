{
 "cells": [
  {
   "cell_type": "code",
   "execution_count": 8,
   "metadata": {
    "collapsed": true
   },
   "outputs": [],
   "source": [
    "import numpy as np\n",
    "import seaborn as sns\n",
    "from tqdm import trange\n",
    "from scipy.stats import norm\n",
    "import matplotlib.pyplot as plt\n",
    "\n",
    "# plotting params\n",
    "%matplotlib inline\n",
    "plt.rcParams['font.size'] = 10\n",
    "plt.rcParams['axes.labelsize'] = 10\n",
    "plt.rcParams['axes.titlesize'] = 10\n",
    "plt.rcParams['xtick.labelsize'] = 8\n",
    "plt.rcParams['ytick.labelsize'] = 8\n",
    "plt.rcParams['legend.fontsize'] = 10\n",
    "plt.rcParams['figure.titlesize'] = 12\n",
    "plt.rcParams['figure.figsize'] = (15.0, 8.0)\n",
    "\n",
    "# path params\n",
    "plot_dir = './plots/'"
   ]
  },
  {
   "cell_type": "markdown",
   "metadata": {},
   "source": [
    "## Question Prompt\n",
    "\n",
    "Given the following current equation\n",
    "\n",
    "$$I(\\Delta L, \\Delta V_{TH}) = \\frac{50}{0.1 + \\Delta L} (0.6 - \\Delta V_{TH})^2$$\n",
    "\n",
    "* $\\Delta L \\sim \\ N(0, 0.01^2)$\n",
    "* $\\Delta V_{TH} \\sim \\ N(0, 0.03^2)$\n",
    "\n",
    "We would like to calculate $P(I > 275)$ using direct Monte-Carlo and Importance Sampling."
   ]
  },
  {
   "cell_type": "markdown",
   "metadata": {},
   "source": [
    "## Direct Monte-Carlo Estimation\n",
    "\n",
    "In MC estimation, we approximate an integral by the sample mean of a function of simulated random variables. In more mathematical terms,\n",
    "\n",
    "$$\\int p(x)\\ f(x)\\ dx = \\mathbb{E}_{p(x)} \\big[\\ f(x) \\big] \\approx \\frac{1}{N} \\sum_{n=1}^{N}f(x_n)$$\n",
    "\n",
    "where $x_n \\sim \\ p(x)$.\n",
    "\n",
    "A useful application of MC is probability estimation. In fact, we can cast a probability as an expectation using the indicator function. In our case, given that $A = \\{I \\ | \\ I > 275\\}$, we define $f(x)$ as\n",
    "\n",
    "$$f(x) = I_{A}(x)= \\begin{cases} \n",
    "      1 & I \\geq 275 \\\\\n",
    "      0 & I < 275 \n",
    "   \\end{cases}$$\n",
    "   \n",
    "Replacing in our equation above, we get\n",
    "\n",
    "$$\\int p(x) \\ f(x) \\ dx = \\int I(x)\\ p(x) \\ d(x) = \\int_{x \\in A} p(x)\\ d(x) \\approx \\frac{1}{N} \\sum_{n=1}^{N}I_{A}(x_n)$$"
   ]
  },
  {
   "cell_type": "code",
   "execution_count": 33,
   "metadata": {
    "collapsed": true
   },
   "outputs": [],
   "source": [
    "def monte_carlo_proba(num_simulations, num_samples, verbose=True, plot=False):\n",
    "    \n",
    "    if verbose:\n",
    "        print(\"===========================================\")\n",
    "        print(\"{} Monte Carlo Simulations of size {}\".format(num_simulations, num_samples))\n",
    "        print(\"===========================================\\n\")\n",
    "    \n",
    "    num_samples = int(num_samples)\n",
    "    num_simulations = int(num_simulations)\n",
    "    \n",
    "    probas = []\n",
    "    for i in range(num_simulations):\n",
    "        mu_1, sigma_1 = 0, 0.01\n",
    "        mu_2, sigma_2 = 0, 0.03\n",
    "\n",
    "        length = np.random.normal(mu_1, sigma_1, num_samples)\n",
    "        voltage = np.random.normal(mu_2, sigma_2, num_samples)\n",
    "\n",
    "        num = 50 * np.square((0.6 - voltage))\n",
    "        denum = 0.1 + length\n",
    "        I = num / denum\n",
    "        \n",
    "        true_condition = np.where(I >= 275)\n",
    "        false_condition = np.where(I < 275)\n",
    "        num_true = true_condition[0].shape[0]\n",
    "        proba = num_true / num_samples\n",
    "        probas.append(proba)\n",
    "        \n",
    "        if plot:\n",
    "            if i == (num_simulations - 1):\n",
    "                plt.scatter(length[true_condition], voltage[true_condition], color='r')\n",
    "                plt.scatter(length[false_condition], voltage[false_condition], color='b')\n",
    "                plt.xlabel(r'$\\Delta L$ [$\\mu$m]')\n",
    "                plt.ylabel(r'$\\Delta V_{TH}$ [V]')\n",
    "                plt.title(\"Monte Carlo Estimation of P(I > 275)\")\n",
    "                plt.savefig(plot_dir + 'monte_carlo.pdf', format='pdf', dpi=300)\n",
    "                plt.show()\n",
    "    \n",
    "    \n",
    "    mean_proba = np.mean(probas)\n",
    "    std_proba = np.std(probas)\n",
    "    \n",
    "    if verbose:\n",
    "        print(\"Probability Mean: {:0.5f}\".format(mean_proba))\n",
    "        print(\"Probability Std: {:0.5f}\".format(std_proba))\n",
    "    \n",
    "    return probas"
   ]
  },
  {
   "cell_type": "code",
   "execution_count": 32,
   "metadata": {},
   "outputs": [
    {
     "name": "stdout",
     "output_type": "stream",
     "text": [
      "===========================================\n",
      "10 Monte Carlo Simulations of size 10000\n",
      "===========================================\n",
      "\n",
      "Probability Mean: 0.00215\n",
      "Probability Std: 0.00054\n"
     ]
    }
   ],
   "source": [
    "probas = monte_carlo_proba(10, 10000, plot=False)"
   ]
  },
  {
   "cell_type": "code",
   "execution_count": 35,
   "metadata": {},
   "outputs": [
    {
     "name": "stdout",
     "output_type": "stream",
     "text": [
      "Iter 1/4\n",
      "Iter 2/4\n",
      "Iter 3/4\n",
      "Iter 4/4\n"
     ]
    }
   ],
   "source": [
    "num_samples = [1e3, 1e4, 1e5, 1e6]\n",
    "num_repetitions = 25\n",
    "\n",
    "total_probas = []\n",
    "for i, num_sample in enumerate(num_samples):\n",
    "    print(\"Iter {}/{}\".format(i+1, len(num_samples)))\n",
    "    probas = monte_carlo_proba(num_repetitions, num_sample, verbose=False)\n",
    "    total_probas.append(probas)"
   ]
  },
  {
   "cell_type": "code",
   "execution_count": 45,
   "metadata": {},
   "outputs": [
    {
     "data": {
      "image/png": "[encoded data removed]",
      "text/plain": [
       "<matplotlib.figure.Figure at 0x111f3e160>"
      ]
     },
     "metadata": {},
     "output_type": "display_data"
    }
   ],
   "source": [
    "y_axis = np.asarray(total_probas)\n",
    "x_axis = np.asarray(num_samples)\n",
    "\n",
    "for x, y in zip(x_axis, y_axis):\n",
    "    plt.scatter([x] * len(y), y)\n",
    "\n",
    "plt.xscale('log')\n",
    "plt.title(\"Direct Monte-Carlo Estimation\")\n",
    "plt.ylabel(\"Probability Estimate\")\n",
    "plt.xlabel('Number of Samples')\n",
    "plt.show()"
   ]
  },
  {
   "cell_type": "markdown",
   "metadata": {},
   "source": [
    "## Importance Sampling"
   ]
  },
  {
   "cell_type": "markdown",
   "metadata": {
    "collapsed": true
   },
   "source": [
    "With importance sampling, we try to reduce the variance of our Monte-Carlo integral estimation by choosing a better distribution from which to simulate our random variables. It involves multiplying the integrand by 1 (usually dressed up in a “tricky fashion”) to yield an expectation of a quantity that varies less than the original integrand over the region of integration. Concretely,\n",
    "\n",
    "$$\\mathbb{E}_{p(x)} \\big[\\ f(x) \\big] = \\int f(x)\\ p(x)\\ dx = \\int f(x)\\ p(x)\\ \\frac{q(x)}{q(x)}\\ dx = \\int \\frac{p(x)}{q(x)}\\cdot f(x)\\ q(x)\\ dx = \\mathbb{E}_{q(x)}  \\big[\\ f(x)\\cdot \\frac{p(x)}{q(x)} \\big]$$\n",
    "\n",
    "Thus, the MC estimation of the expectation becomes:\n",
    "\n",
    "$$\\mathbb{E}_{q(x)}  \\big[\\ f(x)\\cdot \\frac{p(x)}{q(x)} \\big] \\approx \\frac{1}{N} \\sum_{n=1}^{N} w_n \\cdot f(x_n)$$\n",
    "\n",
    "where $w_n = \\dfrac{p(x_n)}{q(x_n)}$"
   ]
  },
  {
   "cell_type": "code",
   "execution_count": 51,
   "metadata": {
    "collapsed": true
   },
   "outputs": [],
   "source": [
    "def importance_sampling(num_simulations, num_samples, verbose=True, plot=False):\n",
    "    \n",
    "    if verbose:\n",
    "        print(\"===================================================\")\n",
    "        print(\"{} Importance Sampling Simulations of size {}\".format(num_simulations, num_samples))\n",
    "        print(\"===================================================\\n\")\n",
    "    \n",
    "    num_simulations = int(num_simulations)\n",
    "    num_samples = int(num_samples)\n",
    "    \n",
    "    probas = []\n",
    "    for i in range(num_simulations):\n",
    "        mu_1, sigma_1 = 0, 0.01\n",
    "        mu_2, sigma_2 = 0, 0.03\n",
    "        mu_1_n, sigma_1_n = 0, 0.02\n",
    "        mu_2_n, sigma_2_n = 0, 0.06\n",
    "        \n",
    "        # setup pdfs\n",
    "        old_pdf_1 = norm(mu_1, sigma_1)\n",
    "        new_pdf_1 = norm(mu_1_n, sigma_1_n)\n",
    "        old_pdf_2 = norm(mu_2, sigma_2)\n",
    "        new_pdf_2 = norm(mu_2_n, sigma_2_n)\n",
    "\n",
    "        length = np.random.normal(mu_1_n, sigma_1_n, num_samples)\n",
    "        voltage = np.random.normal(mu_2_n, sigma_2_n, num_samples)\n",
    "        \n",
    "        # calculate current\n",
    "        num = 50 * np.square((0.6 - voltage))\n",
    "        denum = 0.1 + length\n",
    "        I = num / denum\n",
    "        \n",
    "        # calculate f\n",
    "        true_condition = np.where(I >= 275)\n",
    "\n",
    "        # calculate weight\n",
    "        num = old_pdf_1.pdf(length) * old_pdf_2.pdf(voltage)\n",
    "        denum = new_pdf_1.pdf(length) * new_pdf_2.pdf(voltage)\n",
    "        weights = num / denum\n",
    "\n",
    "        # select weights for nonzero f\n",
    "        weights = weights[true_condition]\n",
    "\n",
    "        # compute unbiased proba\n",
    "        proba = np.sum(weights) / num_samples\n",
    "        probas.append(proba)\n",
    "        \n",
    "        false_condition = np.where(I < 275)\n",
    "        if plot:\n",
    "            if i == num_simulations -1:\n",
    "                plt.scatter(length[true_condition], voltage[true_condition], color='r')\n",
    "                plt.scatter(length[false_condition], voltage[false_condition], color='b')\n",
    "                plt.xlabel(r'$\\Delta L$ [$\\mu$m]')\n",
    "                plt.ylabel(r'$\\Delta V_{TH}$ [V]')\n",
    "                plt.title(\"Monte Carlo Estimation of P(I > 275)\")\n",
    "                plt.savefig(plot_dir + 'imp_sampling.pdf', format='pdf', dpi=300)\n",
    "                plt.show()\n",
    "    \n",
    "    \n",
    "    mean_proba = np.mean(probas)\n",
    "    std_proba = np.std(probas)\n",
    "    \n",
    "    if verbose:\n",
    "        print(\"Probability Mean: {}\".format(mean_proba))\n",
    "        print(\"Probability Std: {}\".format(std_proba))\n",
    "    \n",
    "    return probas"
   ]
  },
  {
   "cell_type": "code",
   "execution_count": 50,
   "metadata": {},
   "outputs": [
    {
     "name": "stdout",
     "output_type": "stream",
     "text": [
      "===================================================\n",
      "10 Importance Sampling Simulations of size 10000\n",
      "===================================================\n",
      "\n",
      "Probability Mean: 0.0022377303080329774\n",
      "Probability Std: 0.00012717556558219492\n"
     ]
    }
   ],
   "source": [
    "probas = importance_sampling(10, 10000, plot=False)"
   ]
  },
  {
   "cell_type": "code",
   "execution_count": 52,
   "metadata": {},
   "outputs": [
    {
     "name": "stdout",
     "output_type": "stream",
     "text": [
      "Iter 1/4\n",
      "Iter 2/4\n",
      "Iter 3/4\n",
      "Iter 4/4\n"
     ]
    }
   ],
   "source": [
    "num_samples = [1e3, 1e4, 1e5, 1e6]\n",
    "num_repetitions = 25\n",
    "\n",
    "total_probas = []\n",
    "for i, num_sample in enumerate(num_samples):\n",
    "    print(\"Iter {}/{}\".format(i+1, len(num_samples)))\n",
    "    probas = importance_sampling(num_repetitions, num_sample, verbose=False)\n",
    "    total_probas.append(probas)"
   ]
  },
  {
   "cell_type": "code",
   "execution_count": 53,
   "metadata": {},
   "outputs": [
    {
     "data": {
      "image/png": "[encoded data removed]",
      "text/plain": [
       "<matplotlib.figure.Figure at 0x11108d400>"
      ]
     },
     "metadata": {},
     "output_type": "display_data"
    }
   ],
   "source": [
    "y_axis = np.asarray(total_probas)\n",
    "x_axis = np.asarray(num_samples)\n",
    "\n",
    "for x, y in zip(x_axis, y_axis):\n",
    "    plt.scatter([x] * len(y), y)\n",
    "    \n",
    "plt.xscale('log')\n",
    "plt.title(\"Importance Sampling\")\n",
    "plt.ylabel(\"Probability Estimate\")\n",
    "plt.xlabel('Number of Samples')\n",
    "plt.show()"
   ]
  }
 ],
 "metadata": {
  "kernelspec": {
   "display_name": "Python 3",
   "language": "python",
   "name": "python3"
  },
  "language_info": {
   "codemirror_mode": {
    "name": "ipython",
    "version": 3
   },
   "file_extension": ".py",
   "mimetype": "text/x-python",
   "name": "python",
   "nbconvert_exporter": "python",
   "pygments_lexer": "ipython3",
   "version": "3.6.1"
  }
 },
 "nbformat": 4,
 "nbformat_minor": 2
}
